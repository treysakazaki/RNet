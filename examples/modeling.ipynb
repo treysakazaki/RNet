{
 "cells": [
  {
   "cell_type": "markdown",
   "id": "88fba517-5846-4483-aa69-1f9d19ba90c7",
   "metadata": {
    "tags": []
   },
   "source": [
    "# Raw Data\n",
    "\n",
    "In this tutorial, we will work with different types of data."
   ]
  },
  {
   "cell_type": "code",
   "execution_count": 1,
   "id": "69242049-465e-4513-b401-9429cb4a18fb",
   "metadata": {},
   "outputs": [],
   "source": [
    "import rnet as rn"
   ]
  },
  {
   "cell_type": "markdown",
   "id": "6f9f240a-a6d4-4122-8c0b-ac299a84eb83",
   "metadata": {},
   "source": [
    "## Map Data\n",
    "\n",
    "Map data is loaded from an OSM file into a `MapData` object using the `from_osm()` method."
   ]
  },
  {
   "cell_type": "code",
   "execution_count": 2,
   "id": "f1b57c0c-249c-4ca4-82bd-3181291010e2",
   "metadata": {},
   "outputs": [],
   "source": [
    "mapdata = rn.MapData.from_osm(\"data/ichihara.osm\")"
   ]
  },
  {
   "cell_type": "markdown",
   "id": "eda69459-c215-427e-982c-f153de62b7e7",
   "metadata": {},
   "source": [
    "The `dump()` method of the `MapData` class provides information about the data that has been loaded."
   ]
  },
  {
   "cell_type": "code",
   "execution_count": 3,
   "id": "9763b904-bea2-451d-bc77-48122c15debe",
   "metadata": {},
   "outputs": [
    {
     "name": "stdout",
     "output_type": "stream",
     "text": [
      "name: ichihara.osm\n",
      "crs: EPSG:4326\n",
      "vertex_count: 414,966\n",
      "link_count: 437,627\n"
     ]
    }
   ],
   "source": [
    "mapdata.dump()"
   ]
  },
  {
   "cell_type": "markdown",
   "id": "586b3ef0-d3ef-4a38-ab8e-fceac89822a1",
   "metadata": {},
   "source": [
    "## Elevation Data\n",
    "\n",
    "Elevation data is loaded from a TIF file into a `ElevationData` object using the `from_tif()` method."
   ]
  },
  {
   "cell_type": "code",
   "execution_count": 4,
   "id": "d9cf4cf9-37d0-432d-930d-2259e0338f76",
   "metadata": {},
   "outputs": [],
   "source": [
    "ed = rn.ElevationData.from_tif(\"data/n35_e139_1arc_v3.tif\")"
   ]
  },
  {
   "cell_type": "markdown",
   "id": "249235d4-131d-466c-9b1f-aa3d5d4d05d8",
   "metadata": {},
   "source": [
    "The `dump()` method of the `ElevationData` class provides information about the data that has been loaded."
   ]
  },
  {
   "cell_type": "code",
   "execution_count": 5,
   "id": "37ef01c1-03ca-4b59-9517-128a35bb43e2",
   "metadata": {},
   "outputs": [
    {
     "name": "stdout",
     "output_type": "stream",
     "text": [
      "name: n35_e139_1arc_v3.tif\n",
      "crs: EPSG:4326\n",
      "point_count: 12,967,201\n",
      "xmin: 138.9998611111111\n",
      "xmax: 139.9998611110761\n",
      "ymin: 35.000138888888884\n",
      "ymax: 36.000138888888884\n",
      "zmin: -58.0\n",
      "zmax: 1,731.0\n"
     ]
    }
   ],
   "source": [
    "ed.dump()"
   ]
  }
 ],
 "metadata": {
  "kernelspec": {
   "display_name": "Python 3 (ipykernel)",
   "language": "python",
   "name": "python3"
  },
  "language_info": {
   "codemirror_mode": {
    "name": "ipython",
    "version": 3
   },
   "file_extension": ".py",
   "mimetype": "text/x-python",
   "name": "python",
   "nbconvert_exporter": "python",
   "pygments_lexer": "ipython3",
   "version": "3.8.2"
  }
 },
 "nbformat": 4,
 "nbformat_minor": 5
}
