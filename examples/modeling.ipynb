{
 "cells": [
  {
   "cell_type": "markdown",
   "id": "88fba517-5846-4483-aa69-1f9d19ba90c7",
   "metadata": {
    "tags": []
   },
   "source": [
    "# Model\n",
    "\n",
    "In this tutorial, we will construct a road network model."
   ]
  },
  {
   "cell_type": "code",
   "execution_count": 1,
   "id": "69242049-465e-4513-b401-9429cb4a18fb",
   "metadata": {},
   "outputs": [],
   "source": [
    "import rnet as rn"
   ]
  },
  {
   "cell_type": "markdown",
   "id": "6f9f240a-a6d4-4122-8c0b-ac299a84eb83",
   "metadata": {},
   "source": [
    "Create an empty model by instantiating the `Model` class."
   ]
  },
  {
   "cell_type": "code",
   "execution_count": 2,
   "id": "f1b57c0c-249c-4ca4-82bd-3181291010e2",
   "metadata": {},
   "outputs": [],
   "source": [
    "m = rn.Model()"
   ]
  },
  {
   "cell_type": "markdown",
   "id": "eda69459-c215-427e-982c-f153de62b7e7",
   "metadata": {},
   "source": [
    "Data sources are added to the model using the `add()` method."
   ]
  },
  {
   "cell_type": "code",
   "execution_count": 3,
   "id": "9763b904-bea2-451d-bc77-48122c15debe",
   "metadata": {},
   "outputs": [],
   "source": [
    "m.add(\"samples/ichihara.osm\")\n",
    "m.add(\"samples/n35_e139_1arc_v3.tif\")\n",
    "m.add(\"samples/n35_e140_1arc_v3.tif\")"
   ]
  },
  {
   "cell_type": "markdown",
   "id": "1d0057a0-01a0-4009-8a4e-ecf47bd29104",
   "metadata": {},
   "source": [
    "The model is built using the `build()` method."
   ]
  },
  {
   "cell_type": "code",
   "execution_count": 4,
   "id": "f36f992e-83d3-47a6-b6e5-264917d4f6bb",
   "metadata": {},
   "outputs": [],
   "source": [
    "m.build()"
   ]
  },
  {
   "cell_type": "markdown",
   "id": "4ef9c7e3-2c77-4715-b320-7d6e82dd0ab2",
   "metadata": {},
   "source": [
    "The `dump()` method provides information about the model that has been built."
   ]
  },
  {
   "cell_type": "code",
   "execution_count": 5,
   "id": "fbdd55cf-2061-4f1c-9445-8ed080f8b887",
   "metadata": {},
   "outputs": [
    {
     "name": "stdout",
     "output_type": "stream",
     "text": [
      "name: Model_0\n",
      "crs: EPSG:4326\n",
      "node_count: 60,231\n",
      "edge_count: 82,531\n"
     ]
    }
   ],
   "source": [
    "m.dump()"
   ]
  },
  {
   "cell_type": "markdown",
   "id": "38056846-f35e-45f1-87fb-eadafaacd1a5",
   "metadata": {},
   "source": [
    "The nodes and edges in the road network model are stored in the attributes, `.nodes` and `.edges`."
   ]
  },
  {
   "cell_type": "code",
   "execution_count": 6,
   "id": "5bc7ae58-99b7-44c0-86d1-067a8a4c581d",
   "metadata": {},
   "outputs": [
    {
     "data": {
      "text/html": [
       "<div>\n",
       "<style scoped>\n",
       "    .dataframe tbody tr th:only-of-type {\n",
       "        vertical-align: middle;\n",
       "    }\n",
       "\n",
       "    .dataframe tbody tr th {\n",
       "        vertical-align: top;\n",
       "    }\n",
       "\n",
       "    .dataframe thead th {\n",
       "        text-align: right;\n",
       "    }\n",
       "</style>\n",
       "<table border=\"1\" class=\"dataframe\">\n",
       "  <thead>\n",
       "    <tr style=\"text-align: right;\">\n",
       "      <th></th>\n",
       "      <th>x</th>\n",
       "      <th>y</th>\n",
       "      <th>z</th>\n",
       "    </tr>\n",
       "  </thead>\n",
       "  <tbody>\n",
       "    <tr>\n",
       "      <th>0</th>\n",
       "      <td>139.837192</td>\n",
       "      <td>35.343257</td>\n",
       "      <td>6.851234</td>\n",
       "    </tr>\n",
       "    <tr>\n",
       "      <th>1</th>\n",
       "      <td>139.854301</td>\n",
       "      <td>35.355641</td>\n",
       "      <td>6.327888</td>\n",
       "    </tr>\n",
       "    <tr>\n",
       "      <th>2</th>\n",
       "      <td>139.910948</td>\n",
       "      <td>35.288344</td>\n",
       "      <td>83.242257</td>\n",
       "    </tr>\n",
       "    <tr>\n",
       "      <th>3</th>\n",
       "      <td>139.917316</td>\n",
       "      <td>35.313323</td>\n",
       "      <td>18.195077</td>\n",
       "    </tr>\n",
       "    <tr>\n",
       "      <th>4</th>\n",
       "      <td>139.921362</td>\n",
       "      <td>35.541115</td>\n",
       "      <td>0.000000</td>\n",
       "    </tr>\n",
       "    <tr>\n",
       "      <th>...</th>\n",
       "      <td>...</td>\n",
       "      <td>...</td>\n",
       "      <td>...</td>\n",
       "    </tr>\n",
       "    <tr>\n",
       "      <th>60226</th>\n",
       "      <td>140.315844</td>\n",
       "      <td>35.361007</td>\n",
       "      <td>12.938321</td>\n",
       "    </tr>\n",
       "    <tr>\n",
       "      <th>60227</th>\n",
       "      <td>140.332167</td>\n",
       "      <td>35.215978</td>\n",
       "      <td>49.108080</td>\n",
       "    </tr>\n",
       "    <tr>\n",
       "      <th>60228</th>\n",
       "      <td>140.351031</td>\n",
       "      <td>35.215058</td>\n",
       "      <td>57.660412</td>\n",
       "    </tr>\n",
       "    <tr>\n",
       "      <th>60229</th>\n",
       "      <td>140.357817</td>\n",
       "      <td>35.298344</td>\n",
       "      <td>17.501359</td>\n",
       "    </tr>\n",
       "    <tr>\n",
       "      <th>60230</th>\n",
       "      <td>140.460123</td>\n",
       "      <td>35.863973</td>\n",
       "      <td>46.629039</td>\n",
       "    </tr>\n",
       "  </tbody>\n",
       "</table>\n",
       "<p>60231 rows × 3 columns</p>\n",
       "</div>"
      ],
      "text/plain": [
       "                x          y          z\n",
       "0      139.837192  35.343257   6.851234\n",
       "1      139.854301  35.355641   6.327888\n",
       "2      139.910948  35.288344  83.242257\n",
       "3      139.917316  35.313323  18.195077\n",
       "4      139.921362  35.541115   0.000000\n",
       "...           ...        ...        ...\n",
       "60226  140.315844  35.361007  12.938321\n",
       "60227  140.332167  35.215978  49.108080\n",
       "60228  140.351031  35.215058  57.660412\n",
       "60229  140.357817  35.298344  17.501359\n",
       "60230  140.460123  35.863973  46.629039\n",
       "\n",
       "[60231 rows x 3 columns]"
      ]
     },
     "execution_count": 6,
     "metadata": {},
     "output_type": "execute_result"
    }
   ],
   "source": [
    "m.nodes"
   ]
  },
  {
   "cell_type": "code",
   "execution_count": 7,
   "id": "37c02dd2-1f1e-48ad-9a0e-75cd8a3b98ee",
   "metadata": {},
   "outputs": [
    {
     "data": {
      "text/html": [
       "<div>\n",
       "<style scoped>\n",
       "    .dataframe tbody tr th:only-of-type {\n",
       "        vertical-align: middle;\n",
       "    }\n",
       "\n",
       "    .dataframe tbody tr th {\n",
       "        vertical-align: top;\n",
       "    }\n",
       "\n",
       "    .dataframe thead th {\n",
       "        text-align: right;\n",
       "    }\n",
       "</style>\n",
       "<table border=\"1\" class=\"dataframe\">\n",
       "  <thead>\n",
       "    <tr style=\"text-align: right;\">\n",
       "      <th></th>\n",
       "      <th></th>\n",
       "      <th>vseq</th>\n",
       "    </tr>\n",
       "    <tr>\n",
       "      <th>i</th>\n",
       "      <th>j</th>\n",
       "      <th></th>\n",
       "    </tr>\n",
       "  </thead>\n",
       "  <tbody>\n",
       "    <tr>\n",
       "      <th>20794</th>\n",
       "      <th>21033</th>\n",
       "      <td>(129451, 129948, 130409, 131075)</td>\n",
       "    </tr>\n",
       "    <tr>\n",
       "      <th>21033</th>\n",
       "      <th>21149</th>\n",
       "      <td>(131075, 131217, 131457, 131673, 131852)</td>\n",
       "    </tr>\n",
       "    <tr>\n",
       "      <th>20909</th>\n",
       "      <th>21033</th>\n",
       "      <td>(130190, 131075)</td>\n",
       "    </tr>\n",
       "    <tr>\n",
       "      <th>21033</th>\n",
       "      <th>21282</th>\n",
       "      <td>(131075, 131630, 132042, 132660, 132771)</td>\n",
       "    </tr>\n",
       "    <tr>\n",
       "      <th>20624</th>\n",
       "      <th>20794</th>\n",
       "      <td>(128441, 129451)</td>\n",
       "    </tr>\n",
       "    <tr>\n",
       "      <th>...</th>\n",
       "      <th>...</th>\n",
       "      <td>...</td>\n",
       "    </tr>\n",
       "    <tr>\n",
       "      <th rowspan=\"2\" valign=\"top\">20525</th>\n",
       "      <th>20548</th>\n",
       "      <td>(127829, 127913, 127985, 128135, 128233, 12830...</td>\n",
       "    </tr>\n",
       "    <tr>\n",
       "      <th>20903</th>\n",
       "      <td>(127829, 128019, 128248, 128447, 128618, 12873...</td>\n",
       "    </tr>\n",
       "    <tr>\n",
       "      <th>43504</th>\n",
       "      <th>43735</th>\n",
       "      <td>(259095, 259492, 259754, 260009, 260232, 26047...</td>\n",
       "    </tr>\n",
       "    <tr>\n",
       "      <th>58531</th>\n",
       "      <th>58591</th>\n",
       "      <td>(390196, 390434, 390702, 390793, 390792, 39082...</td>\n",
       "    </tr>\n",
       "    <tr>\n",
       "      <th>43823</th>\n",
       "      <th>43906</th>\n",
       "      <td>(261462, 261790, 262137)</td>\n",
       "    </tr>\n",
       "  </tbody>\n",
       "</table>\n",
       "<p>82531 rows × 1 columns</p>\n",
       "</div>"
      ],
      "text/plain": [
       "                                                          vseq\n",
       "i     j                                                       \n",
       "20794 21033                   (129451, 129948, 130409, 131075)\n",
       "21033 21149           (131075, 131217, 131457, 131673, 131852)\n",
       "20909 21033                                   (130190, 131075)\n",
       "21033 21282           (131075, 131630, 132042, 132660, 132771)\n",
       "20624 20794                                   (128441, 129451)\n",
       "...                                                        ...\n",
       "20525 20548  (127829, 127913, 127985, 128135, 128233, 12830...\n",
       "      20903  (127829, 128019, 128248, 128447, 128618, 12873...\n",
       "43504 43735  (259095, 259492, 259754, 260009, 260232, 26047...\n",
       "58531 58591  (390196, 390434, 390702, 390793, 390792, 39082...\n",
       "43823 43906                           (261462, 261790, 262137)\n",
       "\n",
       "[82531 rows x 1 columns]"
      ]
     },
     "execution_count": 7,
     "metadata": {},
     "output_type": "execute_result"
    }
   ],
   "source": [
    "m.edges"
   ]
  }
 ],
 "metadata": {
  "kernelspec": {
   "display_name": "Python 3 (ipykernel)",
   "language": "python",
   "name": "python3"
  },
  "language_info": {
   "codemirror_mode": {
    "name": "ipython",
    "version": 3
   },
   "file_extension": ".py",
   "mimetype": "text/x-python",
   "name": "python",
   "nbconvert_exporter": "python",
   "pygments_lexer": "ipython3",
   "version": "3.8.2"
  }
 },
 "nbformat": 4,
 "nbformat_minor": 5
}
