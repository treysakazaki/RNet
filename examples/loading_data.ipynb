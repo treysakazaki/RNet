{
 "cells": [
  {
   "cell_type": "markdown",
   "id": "88fba517-5846-4483-aa69-1f9d19ba90c7",
   "metadata": {
    "tags": []
   },
   "source": [
    "# Map Data\n",
    "\n",
    "In this tutorial, we will work with map data."
   ]
  },
  {
   "cell_type": "code",
   "execution_count": 1,
   "id": "69242049-465e-4513-b401-9429cb4a18fb",
   "metadata": {},
   "outputs": [],
   "source": [
    "import rnet as rn"
   ]
  },
  {
   "cell_type": "markdown",
   "id": "6f9f240a-a6d4-4122-8c0b-ac299a84eb83",
   "metadata": {},
   "source": [
    "## The MapData Class\n",
    "\n",
    "The `MapData` class is used to store map data. Map data may be loaded from an OSM file into a `MapData` object using the `from_osm()` class method."
   ]
  },
  {
   "cell_type": "code",
   "execution_count": 2,
   "id": "f1b57c0c-249c-4ca4-82bd-3181291010e2",
   "metadata": {},
   "outputs": [],
   "source": [
    "mapdata = rn.MapData.from_osm(\"samples/ichihara.osm\")"
   ]
  },
  {
   "cell_type": "markdown",
   "id": "eda69459-c215-427e-982c-f153de62b7e7",
   "metadata": {},
   "source": [
    "The `dump()` method provides information about the data that has been loaded."
   ]
  },
  {
   "cell_type": "code",
   "execution_count": 6,
   "id": "9763b904-bea2-451d-bc77-48122c15debe",
   "metadata": {},
   "outputs": [
    {
     "name": "stdout",
     "output_type": "stream",
     "text": [
      "name: ichihara.osm\n",
      "crs: EPSG:4326\n",
      "vertex_count: 414,966\n",
      "link_count: 437,627\n"
     ]
    }
   ],
   "source": [
    "mapdata.dump()"
   ]
  },
  {
   "cell_type": "markdown",
   "id": "9c0055a2-2bfb-4335-bd4a-beb0d9875ce0",
   "metadata": {},
   "source": [
    "Suppose that we require only the roads with the `'trunk'` tag. The `include` keyword may be specified to keep only the features with the desired tag."
   ]
  },
  {
   "cell_type": "code",
   "execution_count": 8,
   "id": "e53a6130-2d78-4aff-8032-ce591532d99b",
   "metadata": {},
   "outputs": [
    {
     "name": "stdout",
     "output_type": "stream",
     "text": [
      "name: ichihara.osm\n",
      "crs: EPSG:4326\n",
      "vertex_count: 4,926\n",
      "link_count: 4,938\n"
     ]
    }
   ],
   "source": [
    "mapdata = rn.MapData.from_osm(\"samples/ichihara.osm\", include=['trunk'])\n",
    "mapdata.dump()"
   ]
  },
  {
   "cell_type": "markdown",
   "id": "ea97cce9-e09a-4d06-9923-8371c584766f",
   "metadata": {},
   "source": [
    "The map data are stored in data frames in the `vertices` and `links` attributes."
   ]
  },
  {
   "cell_type": "code",
   "execution_count": 9,
   "id": "f650eb4b-7fec-4ada-ae77-ddcec10e1d89",
   "metadata": {},
   "outputs": [
    {
     "name": "stdout",
     "output_type": "stream",
     "text": [
      "               x          y\n",
      "0     139.941200  35.386776\n",
      "1     139.941458  35.386933\n",
      "2     139.941690  35.387097\n",
      "3     139.941835  35.387203\n",
      "4     139.942727  35.387880\n",
      "...          ...        ...\n",
      "4921  140.263174  35.225245\n",
      "4922  140.263284  35.225194\n",
      "4923  140.263915  35.286284\n",
      "4924  140.265576  35.285880\n",
      "4925  140.265865  35.285801\n",
      "\n",
      "[4926 rows x 2 columns]\n",
      "             tag\n",
      "i    j          \n",
      "2979 3010  trunk\n",
      "3010 3016  trunk\n",
      "3016 3025  trunk\n",
      "3025 3029  trunk\n",
      "3029 3033  trunk\n",
      "...          ...\n",
      "3465 3470  trunk\n",
      "3470 3471  trunk\n",
      "3471 3473  trunk\n",
      "3436 3440  trunk\n",
      "3440 3441  trunk\n",
      "\n",
      "[4938 rows x 1 columns]\n"
     ]
    }
   ],
   "source": [
    "print(mapdata.vertices, mapdata.links, sep='\\n')"
   ]
  },
  {
   "cell_type": "markdown",
   "id": "586b3ef0-d3ef-4a38-ab8e-fceac89822a1",
   "metadata": {},
   "source": [
    "## Elevation Data\n",
    "\n",
    "Elevation data is loaded from a TIF file into an `ElevationData` object using the `from_tif()` method."
   ]
  },
  {
   "cell_type": "code",
   "execution_count": 2,
   "id": "d9cf4cf9-37d0-432d-930d-2259e0338f76",
   "metadata": {},
   "outputs": [],
   "source": [
    "elvdata = rn.ElevationData.from_tif(\"samples/n35_e139_1arc_v3.tif\")"
   ]
  },
  {
   "cell_type": "markdown",
   "id": "249235d4-131d-466c-9b1f-aa3d5d4d05d8",
   "metadata": {},
   "source": [
    "The `dump()` method of the `ElevationData` class provides information about the data that has been loaded."
   ]
  },
  {
   "cell_type": "code",
   "execution_count": 3,
   "id": "37ef01c1-03ca-4b59-9517-128a35bb43e2",
   "metadata": {},
   "outputs": [
    {
     "name": "stdout",
     "output_type": "stream",
     "text": [
      "name: n35_e139_1arc_v3.tif\n",
      "crs: EPSG:4326\n",
      "point_count: 12,967,201\n",
      "xmin: 138.9998611111111\n",
      "xmax: 139.9998611110761\n",
      "ymin: 35.00013888889832\n",
      "ymax: 36.000138888888884\n",
      "zmin: -58\n",
      "zmax: 1,731\n"
     ]
    }
   ],
   "source": [
    "elvdata.dump()"
   ]
  },
  {
   "cell_type": "markdown",
   "id": "722f61ad-82ee-4c39-a5c0-6a2e54da4642",
   "metadata": {},
   "source": [
    "Now, the elevation at a single point may be computed using the `get_elev()` method."
   ]
  },
  {
   "cell_type": "code",
   "execution_count": 7,
   "id": "46f3a450-e04a-4cd6-933c-9c6c79f15a69",
   "metadata": {},
   "outputs": [
    {
     "data": {
      "text/plain": [
       "61.54879664784125"
      ]
     },
     "execution_count": 7,
     "metadata": {},
     "output_type": "execute_result"
    }
   ],
   "source": [
    "elvdata.get_elev(139.5,35.5)"
   ]
  },
  {
   "cell_type": "markdown",
   "id": "ff2ecca7-3792-4add-ac22-9b1c8540b2e0",
   "metadata": {},
   "source": [
    "To load data from multiple source files, load the data into an `ElevationDataContainer` object."
   ]
  },
  {
   "cell_type": "code",
   "execution_count": 8,
   "id": "58a07119-7260-4e13-8e46-ac701c1c8a21",
   "metadata": {},
   "outputs": [],
   "source": [
    "container = rn.ElevationDataContainer()\n",
    "container.add(\"samples/n35_e139_1arc_v3.tif\")\n",
    "container.add(\"samples/n35_e140_1arc_v3.tif\")"
   ]
  },
  {
   "cell_type": "markdown",
   "id": "20c3ea38-c0b8-46a4-9501-8b8fb7eaa49b",
   "metadata": {},
   "source": [
    "Then, use the `out()` method of the `ElevationDataContainer` class to create an `ElevationData` instance."
   ]
  },
  {
   "cell_type": "code",
   "execution_count": 9,
   "id": "c21be47d-b970-40c0-a085-8900505c340e",
   "metadata": {},
   "outputs": [
    {
     "name": "stdout",
     "output_type": "stream",
     "text": [
      "name: Concatenated\n",
      "crs: EPSG:4326\n",
      "point_count: 25,934,402\n",
      "xmin: 138.9998611111111\n",
      "xmax: 140.9998611110761\n",
      "ymin: 35.00013888889832\n",
      "ymax: 36.000138888888884\n",
      "zmin: -84\n",
      "zmax: 1,731\n"
     ]
    }
   ],
   "source": [
    "combined = container.out()\n",
    "combined.dump()"
   ]
  },
  {
   "cell_type": "markdown",
   "id": "45d73575-edbf-4ef9-aa52-47dbcd90a1c8",
   "metadata": {},
   "source": [
    "The elevation at multiple points may be computed using the `get_elevs()` method."
   ]
  },
  {
   "cell_type": "code",
   "execution_count": 10,
   "id": "8945aab6-16a0-4a37-9e7f-8ca08fc2642f",
   "metadata": {},
   "outputs": [
    {
     "name": "stdout",
     "output_type": "stream",
     "text": [
      "[[140.59078018  35.73183616   4.404668  ]\n",
      " [139.25013466  35.35289015 112.97425693]\n",
      " [139.36435824  35.84317802  78.18305063]\n",
      " ...\n",
      " [139.03842846  35.90303239 997.40871456]\n",
      " [139.64383235  35.81259033   6.6064601 ]\n",
      " [140.12523618  35.02066634   0.        ]]\n",
      "That took 1.6228 secs.\n"
     ]
    }
   ],
   "source": [
    "import numpy as np\n",
    "import time\n",
    "N = 10_000\n",
    "xpoints = np.random.uniform(combined.xmin,combined.xmax,N)\n",
    "ypoints = np.random.uniform(combined.ymin,combined.ymax,N)\n",
    "start_time = time.perf_counter()\n",
    "z = combined.get_elevs(np.column_stack([xpoints,ypoints]))\n",
    "print(np.column_stack([xpoints,ypoints,z]),\n",
    "      f'That took {time.perf_counter()-start_time:.4f} secs.',\n",
    "      sep='\\n')"
   ]
  },
  {
   "cell_type": "code",
   "execution_count": null,
   "id": "6ee6df43-645c-4509-a0b6-479f41c77ccf",
   "metadata": {},
   "outputs": [],
   "source": []
  }
 ],
 "metadata": {
  "kernelspec": {
   "display_name": "Python 3 (ipykernel)",
   "language": "python",
   "name": "python3"
  },
  "language_info": {
   "codemirror_mode": {
    "name": "ipython",
    "version": 3
   },
   "file_extension": ".py",
   "mimetype": "text/x-python",
   "name": "python",
   "nbconvert_exporter": "python",
   "pygments_lexer": "ipython3",
   "version": "3.8.2"
  }
 },
 "nbformat": 4,
 "nbformat_minor": 5
}
